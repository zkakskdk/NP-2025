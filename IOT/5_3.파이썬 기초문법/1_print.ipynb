{
 "cells": [
  {
   "cell_type": "code",
   "execution_count": 17,
   "id": "0dcb1273",
   "metadata": {},
   "outputs": [],
   "source": [
    "list = [0]\n",
    "list[0] = 3"
   ]
  },
  {
   "cell_type": "code",
   "execution_count": 14,
   "id": "7164543c",
   "metadata": {},
   "outputs": [
    {
     "name": "stdout",
     "output_type": "stream",
     "text": [
      "<class 'list'>\n",
      "[1, 2, 3, 4, 5]\n",
      "2\n",
      "1\n"
     ]
    }
   ],
   "source": [
    "a_list = [1,2,3,4,5]\n",
    "print (type(a_list))\n",
    "print(a_list)\n",
    "print(a_list[1])\n",
    "print(a_list[0])"
   ]
  },
  {
   "cell_type": "code",
   "execution_count": 10,
   "id": "63479de2",
   "metadata": {},
   "outputs": [
    {
     "name": "stdout",
     "output_type": "stream",
     "text": [
      "두 조건 모두 만족\n",
      "두 조건 중 하나라도 만족하면\n"
     ]
    }
   ],
   "source": [
    "a = 1\n",
    "b = 1\n",
    "c = '21'\n",
    "d = '21'\n",
    "if a == b and c == d:\n",
    "    print(\"두 조건 모두 만족\")\n",
    "if a == b or c == d:\n",
    "    print(\"두 조건 중 하나라도 만족하면\")"
   ]
  },
  {
   "cell_type": "code",
   "execution_count": 6,
   "id": "d2fa61e3",
   "metadata": {},
   "outputs": [
    {
     "name": "stdout",
     "output_type": "stream",
     "text": [
      "2.0\n",
      "2\n",
      "2.2\n",
      "2\n"
     ]
    }
   ],
   "source": [
    "print(10/5)\n",
    "print(10//5)\n",
    "print(11/5)\n",
    "print(11//5)"
   ]
  },
  {
   "cell_type": "code",
   "execution_count": 4,
   "id": "22600d8e",
   "metadata": {},
   "outputs": [
    {
     "name": "stdout",
     "output_type": "stream",
     "text": [
      "2010\n"
     ]
    }
   ],
   "source": [
    "d = '10'\n",
    "print(str(c) + d)"
   ]
  },
  {
   "cell_type": "code",
   "execution_count": 3,
   "id": "e863caa1",
   "metadata": {},
   "outputs": [
    {
     "name": "stdout",
     "output_type": "stream",
     "text": [
      "20\n"
     ]
    }
   ],
   "source": [
    "a = 10\n",
    "b = 10\n",
    "c = a + b\n",
    "print(c)"
   ]
  },
  {
   "cell_type": "code",
   "execution_count": 1,
   "id": "9daa05f8",
   "metadata": {},
   "outputs": [
    {
     "name": "stdout",
     "output_type": "stream",
     "text": [
      "hello\n"
     ]
    }
   ],
   "source": [
    "print(\"hello\")"
   ]
  }
 ],
 "metadata": {
  "kernelspec": {
   "display_name": "base",
   "language": "python",
   "name": "python3"
  },
  "language_info": {
   "codemirror_mode": {
    "name": "ipython",
    "version": 3
   },
   "file_extension": ".py",
   "mimetype": "text/x-python",
   "name": "python",
   "nbconvert_exporter": "python",
   "pygments_lexer": "ipython3",
   "version": "3.13.5"
  }
 },
 "nbformat": 4,
 "nbformat_minor": 5
}
