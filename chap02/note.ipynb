{
 "cells": [
  {
   "cell_type": "markdown",
   "id": "8df2be6e",
   "metadata": {},
   "source": [
    "## 2장 노트정리\n",
    "\n",
    "이 파일은 2장 학습하면서 실행한 내용을 정리한 것이다.\n",
    "날짜 : 2025.9.9\n",
    "저자 : 김지성"
   ]
  },
  {
   "cell_type": "code",
   "execution_count": 1,
   "id": "045c9fbf",
   "metadata": {},
   "outputs": [
    {
     "name": "stdout",
     "output_type": "stream",
     "text": [
      "Hello, 여러분!!\n"
     ]
    }
   ],
   "source": [
    "print(\"Hello, 여러분!!\")"
   ]
  }
 ],
 "metadata": {
  "kernelspec": {
   "display_name": "base",
   "language": "python",
   "name": "python3"
  },
  "language_info": {
   "codemirror_mode": {
    "name": "ipython",
    "version": 3
   },
   "file_extension": ".py",
   "mimetype": "text/x-python",
   "name": "python",
   "nbconvert_exporter": "python",
   "pygments_lexer": "ipython3",
   "version": "3.11.7"
  }
 },
 "nbformat": 4,
 "nbformat_minor": 5
}
