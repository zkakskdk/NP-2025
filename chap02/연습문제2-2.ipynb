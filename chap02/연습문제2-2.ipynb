{
 "cells": [
  {
   "cell_type": "markdown",
   "id": "334bf009",
   "metadata": {},
   "source": [
    "3명 이상 친구 이름 리스트를 작성하고 다음 내용을 프로그램하시오.\n",
    "insert()로 맨 앞에 새로운 친구 추가\n",
    "insert()로 3번째 위치에 새로운 친구 추가\n",
    "append()로 마지막에 친구 추가"
   ]
  },
  {
   "cell_type": "code",
   "execution_count": 4,
   "id": "8b590baa",
   "metadata": {},
   "outputs": [
    {
     "name": "stdout",
     "output_type": "stream",
     "text": [
      "원래 리스트: ['영희', '철수', '민수']\n",
      "맨 앞에 추가: ['지수', '영희', '철수', '민수']\n",
      "3번째 위치에 추가: ['지수', '영희', '수빈', '철수', '민수']\n",
      "마지막에 추가: ['지수', '영희', '수빈', '철수', '민수', '현우']\n"
     ]
    }
   ],
   "source": [
    "friends = [\"영희\", \"철수\", \"민수\"] \n",
    "print(\"원래 리스트:\", friends)\n",
    "\n",
    "friends.insert(0, \"지수\")\n",
    "print(\"맨 앞에 추가:\", friends)\n",
    "\n",
    "friends.insert(2, \"수빈\")\n",
    "print(\"3번째 위치에 추가:\", friends)\n",
    "\n",
    "friends.append(\"현우\")\n",
    "print(\"마지막에 추가:\", friends)"
   ]
  },
  {
   "cell_type": "markdown",
   "id": "79c4c096",
   "metadata": {},
   "source": [
    "리스트[1, 2, 3]에 대해 다음 같은 처리를 하라\n",
    "두 번째 요소를 17로 수정\n",
    "리스트에 4, 5, 6을 추가\n",
    "첫 번째 요소 제거\n",
    "리스트를 요소 순서대로 배열하기\n",
    "인덱스 3에 25 넣기"
   ]
  },
  {
   "cell_type": "code",
   "execution_count": 5,
   "id": "dab4e81a",
   "metadata": {},
   "outputs": [
    {
     "name": "stdout",
     "output_type": "stream",
     "text": [
      "\n",
      "원래 리스트: [1, 2, 3]\n",
      "두 번째 요소 17로 수정: [1, 17, 3]\n",
      "4,5,6 추가: [1, 17, 3, 4, 5, 6]\n",
      "첫 번째 요소 제거: [17, 3, 4, 5, 6]\n",
      "정렬된 리스트: [3, 4, 5, 6, 17]\n",
      "인덱스 3에 25 넣기: [3, 4, 5, 25, 6, 17]\n"
     ]
    }
   ],
   "source": [
    "L = [1, 2, 3]\n",
    "print(\"\\n원래 리스트:\", L)\n",
    "\n",
    "L[1] = 17\n",
    "print(\"두 번째 요소 17로 수정:\", L)\n",
    "\n",
    "L.extend([4, 5, 6])\n",
    "print(\"4,5,6 추가:\", L)\n",
    "\n",
    "L.pop(0)\n",
    "print(\"첫 번째 요소 제거:\", L)\n",
    "\n",
    "L.sort()\n",
    "print(\"정렬된 리스트:\", L)\n",
    "\n",
    "L.insert(3, 25)\n",
    "print(\"인덱스 3에 25 넣기:\", L)"
   ]
  },
  {
   "cell_type": "markdown",
   "id": "afa35d5a",
   "metadata": {},
   "source": [
    "for 루프를 이용하여 다음과 같은 리스트를 생성하라.\n",
    "0~49까지의 수로 구성되는 리스트\n",
    "1~50까지 수의 제곱으로 구성되는 리스트"
   ]
  },
  {
   "cell_type": "code",
   "execution_count": 1,
   "id": "9282e383",
   "metadata": {},
   "outputs": [
    {
     "name": "stdout",
     "output_type": "stream",
     "text": [
      "0~49 리스트: [0, 1, 2, 3, 4, 5, 6, 7, 8, 9, 10, 11, 12, 13, 14, 15, 16, 17, 18, 19, 20, 21, 22, 23, 24, 25, 26, 27, 28, 29, 30, 31, 32, 33, 34, 35, 36, 37, 38, 39, 40, 41, 42, 43, 44, 45, 46, 47, 48, 49]\n",
      "1~50 제곱 리스트: [1, 4, 9, 16, 25, 36, 49, 64, 81, 100, 121, 144, 169, 196, 225, 256, 289, 324, 361, 400, 441, 484, 529, 576, 625, 676, 729, 784, 841, 900, 961, 1024, 1089, 1156, 1225, 1296, 1369, 1444, 1521, 1600, 1681, 1764, 1849, 1936, 2025, 2116, 2209, 2304, 2401, 2500]\n"
     ]
    }
   ],
   "source": [
    "list1 = []\n",
    "for i in range(50):\n",
    "    list1.append(i)\n",
    "print(\"0~49 리스트:\", list1)\n",
    "\n",
    "list2 = []\n",
    "for i in range(1, 51):\n",
    "    list2.append(i ** 2)\n",
    "print(\"1~50 제곱 리스트:\", list2)"
   ]
  },
  {
   "cell_type": "markdown",
   "id": "d5c879ba",
   "metadata": {},
   "source": [
    "크기가 같은 두 개의 리스트 L, M을 생성하고, 두 리스트의 각 요소 합으로 구성되는 새로운 리스트를 생성하라."
   ]
  },
  {
   "cell_type": "code",
   "execution_count": 2,
   "id": "e1bdfb9e",
   "metadata": {},
   "outputs": [
    {
     "name": "stdout",
     "output_type": "stream",
     "text": [
      "결과 리스트: [5, 7, 9]\n"
     ]
    }
   ],
   "source": [
    "L = [1, 2, 3]\n",
    "M = [4, 5, 6]\n",
    "\n",
    "result = []\n",
    "for i in range(len(L)):\n",
    "    result.append(L[i] + M[i])\n",
    "\n",
    "print(\"결과 리스트:\", result)"
   ]
  },
  {
   "cell_type": "markdown",
   "id": "de0c15cc",
   "metadata": {},
   "source": [
    "사용자로부터 5개의 숫자를 문자열로 입력받아 각 숫자를 +로 연결한 문자열을 생성하라.\n",
    "예를 들어 2, 5, 11, 33, 55를 입력하면 '2+5+11+33+55'를 생성하라."
   ]
  },
  {
   "cell_type": "code",
   "execution_count": 3,
   "id": "7771a162",
   "metadata": {},
   "outputs": [
    {
     "name": "stdout",
     "output_type": "stream",
     "text": [
      "결과 문자열: 1+6+8+9+10\n"
     ]
    }
   ],
   "source": [
    "numbers = input(\"숫자 5개를 콤마로 구분하여 입력하세요: \")\n",
    "\n",
    "num_list = numbers.split(\",\")\n",
    "\n",
    "result = \"+\".join(num_list)\n",
    "\n",
    "print(\"결과 문자열:\", result)"
   ]
  },
  {
   "cell_type": "markdown",
   "id": "5cad934c",
   "metadata": {},
   "source": [
    "다음 딕셔너리에 대해 물음에 답하라.\n",
    "days = {'January': 31, 'February': 28, 'March': 31, 'April': 30,\n",
    "'May': 31, 'June': 30, 'July': 31, 'August': 31,\n",
    "'September': 30, 'October': 31, 'November': 30, 'December': 31}\n",
    "사용자가 월을 입력하면 해당 월의 일수를 출력하라.\n",
    "알파벳 순서로 모든 월을 출력하라.\n",
    "일수가 31인 월을 모두 출력하라.\n",
    "월의 일수를 기준으로 오름차순으로 (key-value) 쌍을 출력하라.\n",
    "사용자가 월을 3자리만 입력하면 월의 일수를 출력하라. (Jan, Feb 등)"
   ]
  },
  {
   "cell_type": "code",
   "execution_count": 8,
   "id": "5b3bf7fe",
   "metadata": {},
   "outputs": [
    {
     "name": "stdout",
     "output_type": "stream",
     "text": [
      "March은 31일입니다.\n",
      "\n",
      "알파벳 순서 월 목록:\n",
      "April\n",
      "August\n",
      "December\n",
      "February\n",
      "January\n",
      "July\n",
      "June\n",
      "March\n",
      "May\n",
      "November\n",
      "October\n",
      "September\n",
      "\n",
      "31일인 월:\n",
      "January\n",
      "March\n",
      "May\n",
      "July\n",
      "August\n",
      "October\n",
      "December\n",
      "\n",
      "일수 기준 오름차순 정렬:\n",
      "February : 28\n",
      "April : 30\n",
      "June : 30\n",
      "September : 30\n",
      "November : 30\n",
      "January : 31\n",
      "March : 31\n",
      "May : 31\n",
      "July : 31\n",
      "August : 31\n",
      "October : 31\n",
      "December : 31\n",
      "March은 31일입니다.\n"
     ]
    }
   ],
   "source": [
    "days = {\n",
    "    'January': 31, 'February': 28, 'March': 31, 'April': 30,\n",
    "    'May': 31, 'June': 30, 'July': 31, 'August': 31,\n",
    "    'September': 30, 'October': 31, 'November': 30, 'December': 31\n",
    "}\n",
    "\n",
    "month = input(\"월 이름을 입력하세요 (예: March): \")\n",
    "if month in days:\n",
    "    print(f\"{month}은 {days[month]}일입니다.\")\n",
    "else:\n",
    "    print(\"잘못된 월입니다.\")\n",
    "\n",
    "print(\"\\n알파벳 순서 월 목록:\")\n",
    "for m in sorted(days.keys()):\n",
    "    print(m)\n",
    "\n",
    "print(\"\\n31일인 월:\")\n",
    "for m, d in days.items():\n",
    "    if d == 31:\n",
    "        print(m)\n",
    "\n",
    "print(\"\\n일수 기준 오름차순 정렬:\")\n",
    "for m, d in sorted(days.items(), key=lambda x: x[1]):\n",
    "    print(m, \":\", d)\n",
    "\n",
    "short = input(\"\\n월의 앞 3글자를 입력하세요 (예: Jan, Feb): \")\n",
    "found = False\n",
    "for m in days:\n",
    "    if m.startswith(short):\n",
    "        print(f\"{m}은 {days[m]}일입니다.\")\n",
    "        found = True\n",
    "        break\n",
    "if not found:\n",
    "    print(\"해당 월을 찾을 수 없습니다.\")"
   ]
  }
 ],
 "metadata": {
  "kernelspec": {
   "display_name": "base",
   "language": "python",
   "name": "python3"
  },
  "language_info": {
   "codemirror_mode": {
    "name": "ipython",
    "version": 3
   },
   "file_extension": ".py",
   "mimetype": "text/x-python",
   "name": "python",
   "nbconvert_exporter": "python",
   "pygments_lexer": "ipython3",
   "version": "3.13.5"
  }
 },
 "nbformat": 4,
 "nbformat_minor": 5
}
