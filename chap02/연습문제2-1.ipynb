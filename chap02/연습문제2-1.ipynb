{
 "cells": [
  {
   "cell_type": "markdown",
   "id": "3261e502",
   "metadata": {},
   "source": [
    "키보드에서 임의의 두 실수를 입력 받아 곱한 후 그 결과를 출력하는 프로그램을 작성하고 실행하라"
   ]
  },
  {
   "cell_type": "code",
   "execution_count": 1,
   "id": "1d630494",
   "metadata": {},
   "outputs": [
    {
     "name": "stdout",
     "output_type": "stream",
     "text": [
      "두 수의 곱: 2.4200000000000004\n"
     ]
    }
   ],
   "source": [
    "a = float(input(\"첫 번째 실수를 입력하세요: \"))\n",
    "b = float(input(\"두 번째 실수를 입력하세요: \"))\n",
    "\n",
    "result = a * b\n",
    "print(\"두 수의 곱:\", result)"
   ]
  },
  {
   "cell_type": "markdown",
   "id": "49305921",
   "metadata": {},
   "source": [
    "1마일은 1.609km이다. 키보드에서 마일(정수)을 입력받아 km로 변환해 출력하는 프로그램을 작성하고 실행하라"
   ]
  },
  {
   "cell_type": "code",
   "execution_count": 3,
   "id": "58beaa91",
   "metadata": {},
   "outputs": [
    {
     "name": "stdout",
     "output_type": "stream",
     "text": [
      "1 마일은 1.609 킬로미터입니다.\n"
     ]
    }
   ],
   "source": [
    "mile = int(input(\"마일을 입력하세요: \"))\n",
    "km = mile * 1.609\n",
    "print(mile, \"마일은\", km, \"킬로미터입니다.\")"
   ]
  },
  {
   "cell_type": "markdown",
   "id": "6e6d39a4",
   "metadata": {},
   "source": [
    "원의 반지름을 입력받아 원의 둘레와 원의 면적을 출력하는 프로그램을 작성하라"
   ]
  },
  {
   "cell_type": "code",
   "execution_count": 4,
   "id": "b975cfe3",
   "metadata": {},
   "outputs": [
    {
     "name": "stdout",
     "output_type": "stream",
     "text": [
      "원의 둘레: 62.83185307179586\n",
      "원의 면적: 314.1592653589793\n"
     ]
    }
   ],
   "source": [
    "import math\n",
    "\n",
    "r = float(input(\"원의 반지름을 입력하세요: \"))\n",
    "\n",
    "circumference = 2 * math.pi * r   # 둘레\n",
    "area = math.pi * r * r            # 면적\n",
    "\n",
    "print(\"원의 둘레:\", circumference)\n",
    "print(\"원의 면적:\", area)"
   ]
  },
  {
   "cell_type": "markdown",
   "id": "ff7263bc",
   "metadata": {},
   "source": [
    "5와 3을 더한 값을 출력하는 프로그램을 작성하라."
   ]
  },
  {
   "cell_type": "code",
   "execution_count": 1,
   "id": "22dc873d",
   "metadata": {},
   "outputs": [
    {
     "name": "stdout",
     "output_type": "stream",
     "text": [
      "8\n"
     ]
    }
   ],
   "source": [
    "print(5 + 3)"
   ]
  },
  {
   "cell_type": "markdown",
   "id": "6e64b7f7",
   "metadata": {},
   "source": [
    "7에서 3을 뺀 값을 출력하는 프로그램을 작성하라."
   ]
  },
  {
   "cell_type": "code",
   "execution_count": 2,
   "id": "94549f96",
   "metadata": {},
   "outputs": [
    {
     "name": "stdout",
     "output_type": "stream",
     "text": [
      "4\n"
     ]
    }
   ],
   "source": [
    "print(7 - 3)"
   ]
  },
  {
   "cell_type": "markdown",
   "id": "c53684c2",
   "metadata": {},
   "source": [
    "4를 2로 나눈 값을 출력하는 프로그램을 작성하라."
   ]
  },
  {
   "cell_type": "code",
   "execution_count": 3,
   "id": "e4c0a839",
   "metadata": {},
   "outputs": [
    {
     "name": "stdout",
     "output_type": "stream",
     "text": [
      "2.0\n"
     ]
    }
   ],
   "source": [
    "print(4 / 2)"
   ]
  },
  {
   "cell_type": "markdown",
   "id": "ecedfe00",
   "metadata": {},
   "source": [
    "8을 3으로 나눈 몫과 나머지를 출력하는 프로그램을 작성하라."
   ]
  },
  {
   "cell_type": "code",
   "execution_count": 4,
   "id": "d83a463b",
   "metadata": {},
   "outputs": [
    {
     "name": "stdout",
     "output_type": "stream",
     "text": [
      "몫: 2\n",
      "나머지: 2\n"
     ]
    }
   ],
   "source": [
    "print(\"몫:\", 8 // 3)\n",
    "print(\"나머지:\", 8 % 3)"
   ]
  },
  {
   "cell_type": "markdown",
   "id": "21c7ff5d",
   "metadata": {},
   "source": [
    "2의 5제곱을 출력하는 프로그램을 작성하라."
   ]
  },
  {
   "cell_type": "code",
   "execution_count": 5,
   "id": "3d49e698",
   "metadata": {},
   "outputs": [
    {
     "name": "stdout",
     "output_type": "stream",
     "text": [
      "32\n"
     ]
    }
   ],
   "source": [
    "print(2 ** 5)"
   ]
  },
  {
   "cell_type": "markdown",
   "id": "25a01412",
   "metadata": {},
   "source": [
    "입력된 정수가 10보다 크고 20보다 작은지 검사하는 프로그램을 작성하라."
   ]
  },
  {
   "cell_type": "code",
   "execution_count": 6,
   "id": "f1e47fbf",
   "metadata": {},
   "outputs": [
    {
     "name": "stdout",
     "output_type": "stream",
     "text": [
      "True\n"
     ]
    }
   ],
   "source": [
    "num = int(input(\"정수를 입력하세요: \"))\n",
    "print(10 < num < 20)"
   ]
  },
  {
   "cell_type": "markdown",
   "id": "7a03148d",
   "metadata": {},
   "source": [
    "문자열 \"hello\"와 문자열 \"world\"를 이어 붙인 결과를 출력하는 프로그램을 작성하라."
   ]
  },
  {
   "cell_type": "code",
   "execution_count": 7,
   "id": "fb47d11d",
   "metadata": {},
   "outputs": [
    {
     "name": "stdout",
     "output_type": "stream",
     "text": [
      "helloworld\n"
     ]
    }
   ],
   "source": [
    "print(\"hello\" + \"world\")"
   ]
  },
  {
   "cell_type": "markdown",
   "id": "e50be062",
   "metadata": {},
   "source": [
    "7을 2로 나눈 결과가 3보다 작은지 검사하는 프로그램을 작성하라."
   ]
  },
  {
   "cell_type": "code",
   "execution_count": 8,
   "id": "201ccc1e",
   "metadata": {},
   "outputs": [
    {
     "name": "stdout",
     "output_type": "stream",
     "text": [
      "False\n"
     ]
    }
   ],
   "source": [
    "print((7 / 2) < 3)"
   ]
  },
  {
   "cell_type": "markdown",
   "id": "bfc27544",
   "metadata": {},
   "source": [
    "변수 x의 값이 5와 같지 않은지 검사하는 프로그램을 작성하라."
   ]
  },
  {
   "cell_type": "code",
   "execution_count": 9,
   "id": "dca8c9bb",
   "metadata": {},
   "outputs": [
    {
     "name": "stdout",
     "output_type": "stream",
     "text": [
      "True\n"
     ]
    }
   ],
   "source": [
    "x = 7\n",
    "print(x != 5)"
   ]
  },
  {
   "cell_type": "markdown",
   "id": "66552d6d",
   "metadata": {},
   "source": [
    "변수 y의 값이 10에서 20 사이의 값인지 검사하는 프로그램을 작성하라."
   ]
  },
  {
   "cell_type": "code",
   "execution_count": 10,
   "id": "218e0724",
   "metadata": {},
   "outputs": [
    {
     "name": "stdout",
     "output_type": "stream",
     "text": [
      "True\n"
     ]
    }
   ],
   "source": [
    "y = 15\n",
    "print(10 < y < 20)"
   ]
  },
  {
   "cell_type": "markdown",
   "id": "bcc56764",
   "metadata": {},
   "source": [
    "5가 3보다 크고 7보다 작은지 검사하는 프로그램을 작성하라."
   ]
  },
  {
   "cell_type": "code",
   "execution_count": 11,
   "id": "7a9f9991",
   "metadata": {},
   "outputs": [
    {
     "name": "stdout",
     "output_type": "stream",
     "text": [
      "True\n"
     ]
    }
   ],
   "source": [
    "print(3 < 5 < 7)"
   ]
  },
  {
   "cell_type": "markdown",
   "id": "018d9241",
   "metadata": {},
   "source": [
    "변수 x가 10 이상이고 20 이하인지 검사하는 프로그램을 작성하라."
   ]
  },
  {
   "cell_type": "code",
   "execution_count": 12,
   "id": "0f92b4c5",
   "metadata": {},
   "outputs": [
    {
     "name": "stdout",
     "output_type": "stream",
     "text": [
      "True\n"
     ]
    }
   ],
   "source": [
    "x = 15\n",
    "print(10 <= x <= 20)"
   ]
  },
  {
   "cell_type": "markdown",
   "id": "550f0da5",
   "metadata": {},
   "source": [
    "변수 y가 5의 배수이거나 7의 배수인지 검사하는 프로그램을 작성하라."
   ]
  },
  {
   "cell_type": "code",
   "execution_count": 13,
   "id": "bced5af6",
   "metadata": {},
   "outputs": [
    {
     "name": "stdout",
     "output_type": "stream",
     "text": [
      "True\n"
     ]
    }
   ],
   "source": [
    "y = 21\n",
    "print(y % 5 == 0 or y % 7 == 0)"
   ]
  },
  {
   "cell_type": "markdown",
   "id": "7d27973a",
   "metadata": {},
   "source": [
    "변수 z가 양수이면서 짝수인지 검사하는 프로그램을 작성하라."
   ]
  },
  {
   "cell_type": "code",
   "execution_count": 14,
   "id": "cb2fbfba",
   "metadata": {},
   "outputs": [
    {
     "name": "stdout",
     "output_type": "stream",
     "text": [
      "True\n"
     ]
    }
   ],
   "source": [
    "z = 8\n",
    "print(z > 0 and z % 2 == 0)"
   ]
  },
  {
   "cell_type": "markdown",
   "id": "2093600e",
   "metadata": {},
   "source": [
    "변수 a가 문자열 \"hello\"나 문자열 \"world\" 중 하나인지 검사하는 프로그램을 작성하라."
   ]
  },
  {
   "cell_type": "code",
   "execution_count": 15,
   "id": "e4fb906a",
   "metadata": {},
   "outputs": [
    {
     "name": "stdout",
     "output_type": "stream",
     "text": [
      "True\n"
     ]
    }
   ],
   "source": [
    "a = \"hello\"\n",
    "print(a == \"hello\" or a == \"world\")"
   ]
  },
  {
   "cell_type": "markdown",
   "id": "1e690ac3",
   "metadata": {},
   "source": [
    "숫자 7이 리스트 [1, 2, 3, 4, 5]에 포함되어 있는지 검사하는 프로그램을 작성하라."
   ]
  },
  {
   "cell_type": "code",
   "execution_count": 16,
   "id": "384a49b5",
   "metadata": {},
   "outputs": [
    {
     "name": "stdout",
     "output_type": "stream",
     "text": [
      "False\n"
     ]
    }
   ],
   "source": [
    "print(7 in [1, 2, 3, 4, 5])"
   ]
  },
  {
   "cell_type": "markdown",
   "id": "7a44bac7",
   "metadata": {},
   "source": [
    "문자열 \"apple\"이 세트 {\"orange\", \"banana\", \"kiwi\"}에 포함되어 있는지 검사하는 프로그램을 작성하라."
   ]
  },
  {
   "cell_type": "code",
   "execution_count": 17,
   "id": "65d42a59",
   "metadata": {},
   "outputs": [
    {
     "name": "stdout",
     "output_type": "stream",
     "text": [
      "False\n"
     ]
    }
   ],
   "source": [
    "print(\"apple\" in {\"orange\", \"banana\", \"kiwi\"})"
   ]
  },
  {
   "cell_type": "markdown",
   "id": "6c60c98d",
   "metadata": {},
   "source": [
    "숫자 6이 딕셔너리 {\"a\": 1, \"b\": 2, \"c\": 3, \"d\": 4}의 값들 중 하나인지 검사하는 프로그램을 작성하라."
   ]
  },
  {
   "cell_type": "code",
   "execution_count": 19,
   "id": "79ea2ae6",
   "metadata": {},
   "outputs": [
    {
     "name": "stdout",
     "output_type": "stream",
     "text": [
      "False\n"
     ]
    }
   ],
   "source": [
    "print(6 in {\"a\": 1, \"b\": 2, \"c\": 3, \"d\": 4}.values())"
   ]
  },
  {
   "cell_type": "markdown",
   "id": "98e5e455",
   "metadata": {},
   "source": [
    "문자열 \"cat\"이 튜플 (\"dog\", \"cat\", \"bird\", \"hamster\")에 포함되어 있는지 검사하는 프로그램을 작성하라."
   ]
  },
  {
   "cell_type": "code",
   "execution_count": 18,
   "id": "da2d1fff",
   "metadata": {},
   "outputs": [
    {
     "name": "stdout",
     "output_type": "stream",
     "text": [
      "True\n"
     ]
    }
   ],
   "source": [
    "print(\"cat\" in (\"dog\", \"cat\", \"bird\", \"hamster\"))"
   ]
  },
  {
   "cell_type": "markdown",
   "id": "55d414b4",
   "metadata": {},
   "source": [
    "숫자 10이 세트 {2, 4, 6, 8, 10}에 포함되어 있는지 검사하는 프로그램을 작성하라."
   ]
  },
  {
   "cell_type": "code",
   "execution_count": 20,
   "id": "ab49579e",
   "metadata": {},
   "outputs": [
    {
     "name": "stdout",
     "output_type": "stream",
     "text": [
      "True\n"
     ]
    }
   ],
   "source": [
    "print(10 in {2, 4, 6, 8, 10})"
   ]
  },
  {
   "cell_type": "markdown",
   "id": "bf7c9b80",
   "metadata": {},
   "source": [
    "초를 입력하면 분과 초로 표시하는 프로그램. 예를 들어, 200초를 입력하면 3분 20초로 표현하라."
   ]
  },
  {
   "cell_type": "code",
   "execution_count": 23,
   "id": "d7dca440",
   "metadata": {},
   "outputs": [
    {
     "name": "stdout",
     "output_type": "stream",
     "text": [
      "1분 30초\n"
     ]
    }
   ],
   "source": [
    "seconds = int(input(\"초를 입력하세요: \"))\n",
    "minutes = seconds // 60\n",
    "remain_seconds = seconds % 60\n",
    "print(f\"{minutes}분 {remain_seconds}초\")"
   ]
  },
  {
   "cell_type": "markdown",
   "id": "6776cdbd",
   "metadata": {},
   "source": [
    "분(min)을 입력하면, 일, 시간, 분으로 출력하는 프로그램을 만들어라. (예: 1550분은 1일 1시간 50분)"
   ]
  },
  {
   "cell_type": "code",
   "execution_count": 25,
   "id": "5b1065c6",
   "metadata": {},
   "outputs": [
    {
     "name": "stdout",
     "output_type": "stream",
     "text": [
      "0일 5시간 0분\n"
     ]
    }
   ],
   "source": [
    "minutes = int(input(\"분(min)을 입력하세요: \"))\n",
    "days = minutes // (24 * 60)\n",
    "hours = (minutes % (24 * 60)) // 60\n",
    "remain_minutes = minutes % 60\n",
    "print(f\"{days}일 {hours}시간 {remain_minutes}분\")"
   ]
  },
  {
   "cell_type": "markdown",
   "id": "474a4db9",
   "metadata": {},
   "source": [
    "500만 원을 연이율 5%로 복리 저금했을 때 5년 후의 원리금의 합계를 출력하는 프로그램."
   ]
  },
  {
   "cell_type": "code",
   "execution_count": 26,
   "id": "5d1d5b97",
   "metadata": {},
   "outputs": [
    {
     "name": "stdout",
     "output_type": "stream",
     "text": [
      "5년 후 원리금 합계: 6381407 원\n"
     ]
    }
   ],
   "source": [
    "principal = 5000000\n",
    "rate = 0.05\n",
    "years = 5\n",
    "total = principal * ((1 + rate) ** years)\n",
    "print(\"5년 후 원리금 합계:\", int(total), \"원\")"
   ]
  },
  {
   "cell_type": "markdown",
   "id": "c048c252",
   "metadata": {},
   "source": [
    "1부터 n까지의 합은 n(n+1)/2로 주어진다. 1부터 100까지의 합을 구하여 출력하는 프로그램을 작성하고 실행하라."
   ]
  },
  {
   "cell_type": "code",
   "execution_count": 27,
   "id": "ecf62691",
   "metadata": {},
   "outputs": [
    {
     "name": "stdout",
     "output_type": "stream",
     "text": [
      "1부터 100까지의 합: 5050\n"
     ]
    }
   ],
   "source": [
    "n = 100\n",
    "sum_val = n * (n + 1) // 2\n",
    "print(\"1부터 100까지의 합:\", sum_val)"
   ]
  },
  {
   "cell_type": "markdown",
   "id": "5c91339a",
   "metadata": {},
   "source": [
    "판매자가 딸기와 포도를 판매하고 있다. 포도 한 알의 무게는 75g이고 딸기 한 알의 무게는 113.5g이다. 사용자로부터 포도 알의 개수와 딸기의 개수를 입력받아 총 무게를 계산하여 출력하는 프로그램을 작성하고 실행하라."
   ]
  },
  {
   "cell_type": "code",
   "execution_count": 28,
   "id": "89262607",
   "metadata": {},
   "outputs": [
    {
     "name": "stdout",
     "output_type": "stream",
     "text": [
      "총 무게: 2067.5 g\n"
     ]
    }
   ],
   "source": [
    "grape_count = int(input(\"포도 알의 개수를 입력하세요: \"))\n",
    "strawberry_count = int(input(\"딸기 개수를 입력하세요: \"))\n",
    "grape_weight = 75\n",
    "strawberry_weight = 113.5\n",
    "total_weight = grape_count * grape_weight + strawberry_count * strawberry_weight\n",
    "print(\"총 무게:\", total_weight, \"g\")"
   ]
  }
 ],
 "metadata": {
  "kernelspec": {
   "display_name": "base",
   "language": "python",
   "name": "python3"
  },
  "language_info": {
   "codemirror_mode": {
    "name": "ipython",
    "version": 3
   },
   "file_extension": ".py",
   "mimetype": "text/x-python",
   "name": "python",
   "nbconvert_exporter": "python",
   "pygments_lexer": "ipython3",
   "version": "3.13.5"
  }
 },
 "nbformat": 4,
 "nbformat_minor": 5
}
